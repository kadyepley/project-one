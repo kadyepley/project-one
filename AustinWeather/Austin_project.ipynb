{
 "cells": [
  {
   "cell_type": "code",
   "execution_count": 17,
   "metadata": {},
   "outputs": [],
   "source": [
    "# Dependencies and Setup\n",
    "# Water consumption\n",
    "import pandas as pd\n",
    "import numpy\n",
    "import matplotlib.pyplot as plt\n",
    "import scipy.stats as st\n",
    "from pathlib import Path\n"
   ]
  },
  {
   "cell_type": "code",
   "execution_count": 18,
   "metadata": {},
   "outputs": [
    {
     "data": {
      "text/html": [
       "<div>\n",
       "<style scoped>\n",
       "    .dataframe tbody tr th:only-of-type {\n",
       "        vertical-align: middle;\n",
       "    }\n",
       "\n",
       "    .dataframe tbody tr th {\n",
       "        vertical-align: top;\n",
       "    }\n",
       "\n",
       "    .dataframe thead th {\n",
       "        text-align: right;\n",
       "    }\n",
       "</style>\n",
       "<table border=\"1\" class=\"dataframe\">\n",
       "  <thead>\n",
       "    <tr style=\"text-align: right;\">\n",
       "      <th></th>\n",
       "      <th>Year Month</th>\n",
       "      <th>Postal Code</th>\n",
       "      <th>Customer Class</th>\n",
       "      <th>Total Gallons</th>\n",
       "    </tr>\n",
       "  </thead>\n",
       "  <tbody>\n",
       "    <tr>\n",
       "      <th>0</th>\n",
       "      <td>201201</td>\n",
       "      <td>78613</td>\n",
       "      <td>Irrigation - Multi-Family</td>\n",
       "      <td>11000</td>\n",
       "    </tr>\n",
       "    <tr>\n",
       "      <th>1</th>\n",
       "      <td>201201</td>\n",
       "      <td>78613</td>\n",
       "      <td>Multi-Family</td>\n",
       "      <td>23000</td>\n",
       "    </tr>\n",
       "    <tr>\n",
       "      <th>2</th>\n",
       "      <td>201201</td>\n",
       "      <td>78617</td>\n",
       "      <td>Residential</td>\n",
       "      <td>19840800</td>\n",
       "    </tr>\n",
       "    <tr>\n",
       "      <th>3</th>\n",
       "      <td>201201</td>\n",
       "      <td>78617</td>\n",
       "      <td>Multi-Family</td>\n",
       "      <td>2477000</td>\n",
       "    </tr>\n",
       "    <tr>\n",
       "      <th>4</th>\n",
       "      <td>201201</td>\n",
       "      <td>78652</td>\n",
       "      <td>Irrigation - Residential</td>\n",
       "      <td>38500</td>\n",
       "    </tr>\n",
       "  </tbody>\n",
       "</table>\n",
       "</div>"
      ],
      "text/plain": [
       "   Year Month  Postal Code             Customer Class  Total Gallons\n",
       "0      201201        78613  Irrigation - Multi-Family          11000\n",
       "1      201201        78613               Multi-Family          23000\n",
       "2      201201        78617                Residential       19840800\n",
       "3      201201        78617               Multi-Family        2477000\n",
       "4      201201        78652   Irrigation - Residential          38500"
      ]
     },
     "execution_count": 18,
     "metadata": {},
     "output_type": "execute_result"
    }
   ],
   "source": [
    "# File to Load (Remember to Change These)\n",
    "path = Path(\"Resources/austin_water.csv\")\n",
    "customer_data_df = pd.read_csv(path)\n",
    "customer_data_df.head()"
   ]
  },
  {
   "cell_type": "code",
   "execution_count": 19,
   "metadata": {},
   "outputs": [
    {
     "data": {
      "text/html": [
       "<div>\n",
       "<style scoped>\n",
       "    .dataframe tbody tr th:only-of-type {\n",
       "        vertical-align: middle;\n",
       "    }\n",
       "\n",
       "    .dataframe tbody tr th {\n",
       "        vertical-align: top;\n",
       "    }\n",
       "\n",
       "    .dataframe thead th {\n",
       "        text-align: right;\n",
       "    }\n",
       "</style>\n",
       "<table border=\"1\" class=\"dataframe\">\n",
       "  <thead>\n",
       "    <tr style=\"text-align: right;\">\n",
       "      <th></th>\n",
       "      <th>Year Month</th>\n",
       "      <th>Postal Code</th>\n",
       "      <th>Customer Class</th>\n",
       "      <th>Total Gallons</th>\n",
       "    </tr>\n",
       "  </thead>\n",
       "  <tbody>\n",
       "    <tr>\n",
       "      <th>1850</th>\n",
       "      <td>2013-01-01</td>\n",
       "      <td>78613</td>\n",
       "      <td>Irrigation - Multi-Family</td>\n",
       "      <td>15000</td>\n",
       "    </tr>\n",
       "    <tr>\n",
       "      <th>1851</th>\n",
       "      <td>2013-01-01</td>\n",
       "      <td>78613</td>\n",
       "      <td>Multi-Family</td>\n",
       "      <td>20000</td>\n",
       "    </tr>\n",
       "    <tr>\n",
       "      <th>1852</th>\n",
       "      <td>2013-01-01</td>\n",
       "      <td>78617</td>\n",
       "      <td>Irrigation - Residential</td>\n",
       "      <td>200</td>\n",
       "    </tr>\n",
       "    <tr>\n",
       "      <th>1853</th>\n",
       "      <td>2013-01-01</td>\n",
       "      <td>78617</td>\n",
       "      <td>Residential</td>\n",
       "      <td>21866800</td>\n",
       "    </tr>\n",
       "    <tr>\n",
       "      <th>1854</th>\n",
       "      <td>2013-01-01</td>\n",
       "      <td>78617</td>\n",
       "      <td>Multi-Family</td>\n",
       "      <td>2920900</td>\n",
       "    </tr>\n",
       "    <tr>\n",
       "      <th>...</th>\n",
       "      <td>...</td>\n",
       "      <td>...</td>\n",
       "      <td>...</td>\n",
       "      <td>...</td>\n",
       "    </tr>\n",
       "    <tr>\n",
       "      <th>11397</th>\n",
       "      <td>2017-12-01</td>\n",
       "      <td>78758</td>\n",
       "      <td>Irrigation - Residential</td>\n",
       "      <td>40000</td>\n",
       "    </tr>\n",
       "    <tr>\n",
       "      <th>11398</th>\n",
       "      <td>2017-12-01</td>\n",
       "      <td>78759</td>\n",
       "      <td>Irrigation - Multi-Family</td>\n",
       "      <td>996500</td>\n",
       "    </tr>\n",
       "    <tr>\n",
       "      <th>11399</th>\n",
       "      <td>2017-12-01</td>\n",
       "      <td>78759</td>\n",
       "      <td>Multi-Family</td>\n",
       "      <td>34477800</td>\n",
       "    </tr>\n",
       "    <tr>\n",
       "      <th>11400</th>\n",
       "      <td>2017-12-01</td>\n",
       "      <td>78759</td>\n",
       "      <td>Irrigation - Residential</td>\n",
       "      <td>51500</td>\n",
       "    </tr>\n",
       "    <tr>\n",
       "      <th>11401</th>\n",
       "      <td>2017-12-01</td>\n",
       "      <td>78759</td>\n",
       "      <td>Residential</td>\n",
       "      <td>46189100</td>\n",
       "    </tr>\n",
       "  </tbody>\n",
       "</table>\n",
       "<p>9550 rows × 4 columns</p>\n",
       "</div>"
      ],
      "text/plain": [
       "      Year Month  Postal Code             Customer Class  Total Gallons\n",
       "1850  2013-01-01        78613  Irrigation - Multi-Family          15000\n",
       "1851  2013-01-01        78613               Multi-Family          20000\n",
       "1852  2013-01-01        78617   Irrigation - Residential            200\n",
       "1853  2013-01-01        78617                Residential       21866800\n",
       "1854  2013-01-01        78617               Multi-Family        2920900\n",
       "...          ...          ...                        ...            ...\n",
       "11397 2017-12-01        78758   Irrigation - Residential          40000\n",
       "11398 2017-12-01        78759  Irrigation - Multi-Family         996500\n",
       "11399 2017-12-01        78759               Multi-Family       34477800\n",
       "11400 2017-12-01        78759   Irrigation - Residential          51500\n",
       "11401 2017-12-01        78759                Residential       46189100\n",
       "\n",
       "[9550 rows x 4 columns]"
      ]
     },
     "execution_count": 19,
     "metadata": {},
     "output_type": "execute_result"
    }
   ],
   "source": [
    "# Filter the data to only include the data for years 2013-2017\n",
    "\n",
    "customer_data_df['Year Month'] = pd.to_datetime(customer_data_df['Year Month'], format='%Y%m')\n",
    "\n",
    "filtered_data = customer_data_df[(customer_data_df['Year Month'].dt.year >= 2013) & (customer_data_df['Year Month'].dt.year <= 2017)]\n",
    "\n",
    "filtered_data\n"
   ]
  },
  {
   "cell_type": "code",
   "execution_count": 20,
   "metadata": {},
   "outputs": [
    {
     "data": {
      "text/plain": [
       "Customer Class\n",
       "Irrigation - Multi-Family     3871926600\n",
       "Irrigation - Residential       197562900\n",
       "Multi-Family                 41908434000\n",
       "Residential                  71727421200\n",
       "Name: Total Gallons, dtype: int64"
      ]
     },
     "execution_count": 20,
     "metadata": {},
     "output_type": "execute_result"
    }
   ],
   "source": [
    "# Grouping by Customer Class and Time\n",
    "cust_class_totals = filtered_data.groupby(['Customer Class'])['Total Gallons'].sum()\n",
    "\n",
    "time_totals = filtered_data.groupby(['Year Month'])['Total Gallons'].sum()\n",
    "\n",
    "#time_totals\n",
    "cust_class_totals"
   ]
  },
  {
   "cell_type": "code",
   "execution_count": 21,
   "metadata": {},
   "outputs": [
    {
     "data": {
      "text/plain": [
       "Year Month\n",
       "2015-08-01    2763112500\n",
       "2015-09-01    2684620600\n",
       "2013-09-01    2593170700\n",
       "2014-09-01    2564459200\n",
       "2017-08-01    2547847000\n",
       "2013-08-01    2534850100\n",
       "2013-07-01    2491107800\n",
       "2016-08-01    2470237400\n",
       "2017-07-01    2466226200\n",
       "2016-07-01    2415686400\n",
       "2015-10-01    2401311400\n",
       "2014-08-01    2358940000\n",
       "2017-09-01    2353679000\n",
       "2016-09-01    2156562700\n",
       "2014-07-01    2134472900\n",
       "2016-10-01    2107208900\n",
       "2013-06-01    2104754100\n",
       "2017-06-01    2098386200\n",
       "2015-07-01    2033398200\n",
       "2013-05-01    2019089400\n",
       "2017-10-01    2018448000\n",
       "2013-10-01    2017698100\n",
       "2014-06-01    2005111400\n",
       "2014-05-01    1985723400\n",
       "2017-05-01    1979500400\n",
       "2016-11-01    1947654300\n",
       "2014-11-01    1945344400\n",
       "2013-01-01    1907330000\n",
       "2014-10-01    1904262000\n",
       "2013-04-01    1875674700\n",
       "2017-11-01    1867682000\n",
       "2016-06-01    1856758200\n",
       "2015-11-01    1849563900\n",
       "2014-04-01    1779458600\n",
       "2015-01-01    1776078100\n",
       "2016-04-01    1770805400\n",
       "2014-01-01    1761888000\n",
       "2016-12-01    1761018500\n",
       "2017-01-01    1754559800\n",
       "2013-03-01    1746832700\n",
       "2016-03-01    1746078100\n",
       "2017-12-01    1745127300\n",
       "2017-04-01    1741229700\n",
       "2013-11-01    1727305300\n",
       "2016-01-01    1716227700\n",
       "2017-03-01    1706309300\n",
       "2015-06-01    1702430900\n",
       "2015-12-01    1676054800\n",
       "2016-05-01    1670845200\n",
       "2015-04-01    1661645100\n",
       "2014-12-01    1652221100\n",
       "2015-05-01    1641751800\n",
       "2013-02-01    1623585500\n",
       "2013-12-01    1616286200\n",
       "2015-03-01    1614137600\n",
       "2016-02-01    1612436900\n",
       "2014-03-01    1541012400\n",
       "2014-02-01    1538954800\n",
       "2017-02-01    1510267200\n",
       "2015-02-01    1450925200\n",
       "Name: Total Gallons, dtype: int64"
      ]
     },
     "execution_count": 21,
     "metadata": {},
     "output_type": "execute_result"
    }
   ],
   "source": [
    "# Sorting for time\n",
    "time_sort = time_totals.sort_values(ascending=False)\n",
    "\n",
    "time_sort"
   ]
  },
  {
   "cell_type": "code",
   "execution_count": 22,
   "metadata": {},
   "outputs": [
    {
     "data": {
      "image/png": "[encoded data removed]",
      "text/plain": [
       "<Figure size 1000x600 with 1 Axes>"
      ]
     },
     "metadata": {},
     "output_type": "display_data"
    }
   ],
   "source": [
    "# Creating bar graph for Customer Class totals\n",
    "\n",
    "plt.figure(figsize=(10, 6))\n",
    "cust_class_totals.plot(kind='bar', color=[\"#81573B\", \"#2E6D4F\", \"#A9A57C\", \"#464E68\"])\n",
    "plt.xlabel('Customer Class')\n",
    "plt.ylabel('Total Gallons Consumed (Millions of Gallons)')\n",
    "plt.title('Total Water Consumption by Customer Class (2013-2017)', weight=\"bold\")\n",
    "\n",
    "# Formatting\n",
    "plt.xticks(rotation=45)\n",
    "plt.tight_layout()\n",
    "plt.show()"
   ]
  },
  {
   "cell_type": "code",
   "execution_count": 23,
   "metadata": {},
   "outputs": [],
   "source": [
    "# Create line plot \n",
    "#filtered_data['Total Gallons'].plot(kind='line',figsize=(10, 5))\n",
    "#plt.xlabel('Year')\n",
    "#plt.ylabel('Total Gallons Consumed (Millions of Gallons)')\n",
    "#plt.title('Top 10 Year Month with Highest Water Consumption (2013-2017)')\n",
    "\n"
   ]
  },
  {
   "cell_type": "code",
   "execution_count": 24,
   "metadata": {},
   "outputs": [
    {
     "data": {
      "text/plain": [
       "dtype('int64')"
      ]
     },
     "execution_count": 24,
     "metadata": {},
     "output_type": "execute_result"
    }
   ],
   "source": [
    "#Filtering for Multi-Family Class\n",
    "\n",
    "m_fam_data = filtered_data[(filtered_data['Customer Class'] == 'Multi-Family')]\n",
    "\n",
    "m_fam_totals = m_fam_data.groupby(['Customer Class', 'Year Month'])['Total Gallons'].sum()\n",
    "\n",
    "m_fam_totals.dtypes"
   ]
  },
  {
   "cell_type": "code",
   "execution_count": null,
   "metadata": {},
   "outputs": [],
   "source": []
  },
  {
   "cell_type": "code",
   "execution_count": 25,
   "metadata": {},
   "outputs": [
    {
     "data": {
      "text/plain": [
       "dtype('int64')"
      ]
     },
     "execution_count": 25,
     "metadata": {},
     "output_type": "execute_result"
    }
   ],
   "source": [
    "#Filtering for Residential Customer Class\n",
    "\n",
    "residential_data = filtered_data[(filtered_data['Customer Class'] == 'Residential')]\n",
    "\n",
    "residential_totals = residential_data.groupby(['Customer Class', 'Year Month'])['Total Gallons'].sum()\n",
    "\n",
    "residential_totals.dtypes"
   ]
  },
  {
   "cell_type": "code",
   "execution_count": 26,
   "metadata": {},
   "outputs": [
    {
     "data": {
      "text/plain": [
       "Year Month        datetime64[ns]\n",
       "Postal Code                int64\n",
       "Customer Class            object\n",
       "Total Gallons              int64\n",
       "dtype: object"
      ]
     },
     "execution_count": 26,
     "metadata": {},
     "output_type": "execute_result"
    }
   ],
   "source": [
    "# Filtering for any zip code including Irrigation \n",
    "\n",
    "irrigation_data = filtered_data[(filtered_data['Customer Class'].str.contains(\"Irrigation\"))]\n",
    "\n",
    "irrigation_totals = irrigation_data.groupby(['Customer Class', 'Year Month'])['Total Gallons'].sum()\n",
    "\n",
    "irrigation_data.dtypes"
   ]
  },
  {
   "cell_type": "code",
   "execution_count": null,
   "metadata": {},
   "outputs": [],
   "source": []
  },
  {
   "cell_type": "code",
   "execution_count": 27,
   "metadata": {},
   "outputs": [
    {
     "ename": "KeyError",
     "evalue": "'Year Month'",
     "output_type": "error",
     "traceback": [
      "\u001b[1;31m---------------------------------------------------------------------------\u001b[0m",
      "\u001b[1;31mKeyError\u001b[0m                                  Traceback (most recent call last)",
      "File \u001b[1;32mc:\\Users\\kadye\\anaconda3\\envs\\EdX\\lib\\site-packages\\pandas\\core\\indexes\\base.py:3802\u001b[0m, in \u001b[0;36mIndex.get_loc\u001b[1;34m(self, key, method, tolerance)\u001b[0m\n\u001b[0;32m   3801\u001b[0m \u001b[39mtry\u001b[39;00m:\n\u001b[1;32m-> 3802\u001b[0m     \u001b[39mreturn\u001b[39;00m \u001b[39mself\u001b[39;49m\u001b[39m.\u001b[39;49m_engine\u001b[39m.\u001b[39;49mget_loc(casted_key)\n\u001b[0;32m   3803\u001b[0m \u001b[39mexcept\u001b[39;00m \u001b[39mKeyError\u001b[39;00m \u001b[39mas\u001b[39;00m err:\n",
      "File \u001b[1;32mc:\\Users\\kadye\\anaconda3\\envs\\EdX\\lib\\site-packages\\pandas\\_libs\\index.pyx:138\u001b[0m, in \u001b[0;36mpandas._libs.index.IndexEngine.get_loc\u001b[1;34m()\u001b[0m\n",
      "File \u001b[1;32mc:\\Users\\kadye\\anaconda3\\envs\\EdX\\lib\\site-packages\\pandas\\_libs\\index.pyx:165\u001b[0m, in \u001b[0;36mpandas._libs.index.IndexEngine.get_loc\u001b[1;34m()\u001b[0m\n",
      "File \u001b[1;32mpandas\\_libs\\hashtable_class_helper.pxi:5745\u001b[0m, in \u001b[0;36mpandas._libs.hashtable.PyObjectHashTable.get_item\u001b[1;34m()\u001b[0m\n",
      "File \u001b[1;32mpandas\\_libs\\hashtable_class_helper.pxi:5753\u001b[0m, in \u001b[0;36mpandas._libs.hashtable.PyObjectHashTable.get_item\u001b[1;34m()\u001b[0m\n",
      "\u001b[1;31mKeyError\u001b[0m: 'Year Month'",
      "\nThe above exception was the direct cause of the following exception:\n",
      "\u001b[1;31mKeyError\u001b[0m                                  Traceback (most recent call last)",
      "Cell \u001b[1;32mIn[27], line 4\u001b[0m\n\u001b[0;32m      1\u001b[0m fig, ax \u001b[39m=\u001b[39m plt\u001b[39m.\u001b[39msubplots(\u001b[39m1\u001b[39m, \u001b[39m1\u001b[39m, figsize\u001b[39m=\u001b[39m(\u001b[39m12\u001b[39m, \u001b[39m14\u001b[39m))\n\u001b[0;32m      3\u001b[0m \u001b[39m# Plot the lines for Multi-Family\u001b[39;00m\n\u001b[1;32m----> 4\u001b[0m ax\u001b[39m.\u001b[39mplot(m_fam_totals[\u001b[39m'\u001b[39;49m\u001b[39mYear Month\u001b[39;49m\u001b[39m'\u001b[39;49m], m_fam_totals[\u001b[39m'\u001b[39m\u001b[39mTotal Gallons\u001b[39m\u001b[39m'\u001b[39m], label\u001b[39m=\u001b[39m\u001b[39m'\u001b[39m\u001b[39mMulti-Family\u001b[39m\u001b[39m'\u001b[39m)\n\u001b[0;32m      5\u001b[0m \u001b[39m# Plot the lines for Residential\u001b[39;00m\n\u001b[0;32m      6\u001b[0m ax\u001b[39m.\u001b[39mplot(residential_totals[\u001b[39m'\u001b[39m\u001b[39mYear Month\u001b[39m\u001b[39m'\u001b[39m], residential_totals[\u001b[39m'\u001b[39m\u001b[39mTotal Gallons\u001b[39m\u001b[39m'\u001b[39m], label\u001b[39m=\u001b[39m\u001b[39m'\u001b[39m\u001b[39mResidential\u001b[39m\u001b[39m'\u001b[39m)  \n",
      "File \u001b[1;32mc:\\Users\\kadye\\anaconda3\\envs\\EdX\\lib\\site-packages\\pandas\\core\\series.py:981\u001b[0m, in \u001b[0;36mSeries.__getitem__\u001b[1;34m(self, key)\u001b[0m\n\u001b[0;32m    978\u001b[0m     \u001b[39mreturn\u001b[39;00m \u001b[39mself\u001b[39m\u001b[39m.\u001b[39m_values[key]\n\u001b[0;32m    980\u001b[0m \u001b[39melif\u001b[39;00m key_is_scalar:\n\u001b[1;32m--> 981\u001b[0m     \u001b[39mreturn\u001b[39;00m \u001b[39mself\u001b[39;49m\u001b[39m.\u001b[39;49m_get_value(key)\n\u001b[0;32m    983\u001b[0m \u001b[39mif\u001b[39;00m is_hashable(key):\n\u001b[0;32m    984\u001b[0m     \u001b[39m# Otherwise index.get_value will raise InvalidIndexError\u001b[39;00m\n\u001b[0;32m    985\u001b[0m     \u001b[39mtry\u001b[39;00m:\n\u001b[0;32m    986\u001b[0m         \u001b[39m# For labels that don't resolve as scalars like tuples and frozensets\u001b[39;00m\n",
      "File \u001b[1;32mc:\\Users\\kadye\\anaconda3\\envs\\EdX\\lib\\site-packages\\pandas\\core\\series.py:1089\u001b[0m, in \u001b[0;36mSeries._get_value\u001b[1;34m(self, label, takeable)\u001b[0m\n\u001b[0;32m   1086\u001b[0m     \u001b[39mreturn\u001b[39;00m \u001b[39mself\u001b[39m\u001b[39m.\u001b[39m_values[label]\n\u001b[0;32m   1088\u001b[0m \u001b[39m# Similar to Index.get_value, but we do not fall back to positional\u001b[39;00m\n\u001b[1;32m-> 1089\u001b[0m loc \u001b[39m=\u001b[39m \u001b[39mself\u001b[39;49m\u001b[39m.\u001b[39;49mindex\u001b[39m.\u001b[39;49mget_loc(label)\n\u001b[0;32m   1090\u001b[0m \u001b[39mreturn\u001b[39;00m \u001b[39mself\u001b[39m\u001b[39m.\u001b[39mindex\u001b[39m.\u001b[39m_get_values_for_loc(\u001b[39mself\u001b[39m, loc, label)\n",
      "File \u001b[1;32mc:\\Users\\kadye\\anaconda3\\envs\\EdX\\lib\\site-packages\\pandas\\core\\indexes\\multi.py:2916\u001b[0m, in \u001b[0;36mMultiIndex.get_loc\u001b[1;34m(self, key, method)\u001b[0m\n\u001b[0;32m   2913\u001b[0m     \u001b[39mreturn\u001b[39;00m mask\n\u001b[0;32m   2915\u001b[0m \u001b[39mif\u001b[39;00m \u001b[39mnot\u001b[39;00m \u001b[39misinstance\u001b[39m(key, \u001b[39mtuple\u001b[39m):\n\u001b[1;32m-> 2916\u001b[0m     loc \u001b[39m=\u001b[39m \u001b[39mself\u001b[39;49m\u001b[39m.\u001b[39;49m_get_level_indexer(key, level\u001b[39m=\u001b[39;49m\u001b[39m0\u001b[39;49m)\n\u001b[0;32m   2917\u001b[0m     \u001b[39mreturn\u001b[39;00m _maybe_to_slice(loc)\n\u001b[0;32m   2919\u001b[0m keylen \u001b[39m=\u001b[39m \u001b[39mlen\u001b[39m(key)\n",
      "File \u001b[1;32mc:\\Users\\kadye\\anaconda3\\envs\\EdX\\lib\\site-packages\\pandas\\core\\indexes\\multi.py:3263\u001b[0m, in \u001b[0;36mMultiIndex._get_level_indexer\u001b[1;34m(self, key, level, indexer)\u001b[0m\n\u001b[0;32m   3259\u001b[0m         \u001b[39mreturn\u001b[39;00m \u001b[39mslice\u001b[39m(i, j, step)\n\u001b[0;32m   3261\u001b[0m \u001b[39melse\u001b[39;00m:\n\u001b[1;32m-> 3263\u001b[0m     idx \u001b[39m=\u001b[39m \u001b[39mself\u001b[39;49m\u001b[39m.\u001b[39;49m_get_loc_single_level_index(level_index, key)\n\u001b[0;32m   3265\u001b[0m     \u001b[39mif\u001b[39;00m level \u001b[39m>\u001b[39m \u001b[39m0\u001b[39m \u001b[39mor\u001b[39;00m \u001b[39mself\u001b[39m\u001b[39m.\u001b[39m_lexsort_depth \u001b[39m==\u001b[39m \u001b[39m0\u001b[39m:\n\u001b[0;32m   3266\u001b[0m         \u001b[39m# Desired level is not sorted\u001b[39;00m\n\u001b[0;32m   3267\u001b[0m         \u001b[39mif\u001b[39;00m \u001b[39misinstance\u001b[39m(idx, \u001b[39mslice\u001b[39m):\n\u001b[0;32m   3268\u001b[0m             \u001b[39m# test_get_loc_partial_timestamp_multiindex\u001b[39;00m\n",
      "File \u001b[1;32mc:\\Users\\kadye\\anaconda3\\envs\\EdX\\lib\\site-packages\\pandas\\core\\indexes\\multi.py:2849\u001b[0m, in \u001b[0;36mMultiIndex._get_loc_single_level_index\u001b[1;34m(self, level_index, key)\u001b[0m\n\u001b[0;32m   2847\u001b[0m     \u001b[39mreturn\u001b[39;00m \u001b[39m-\u001b[39m\u001b[39m1\u001b[39m\n\u001b[0;32m   2848\u001b[0m \u001b[39melse\u001b[39;00m:\n\u001b[1;32m-> 2849\u001b[0m     \u001b[39mreturn\u001b[39;00m level_index\u001b[39m.\u001b[39;49mget_loc(key)\n",
      "File \u001b[1;32mc:\\Users\\kadye\\anaconda3\\envs\\EdX\\lib\\site-packages\\pandas\\core\\indexes\\base.py:3804\u001b[0m, in \u001b[0;36mIndex.get_loc\u001b[1;34m(self, key, method, tolerance)\u001b[0m\n\u001b[0;32m   3802\u001b[0m     \u001b[39mreturn\u001b[39;00m \u001b[39mself\u001b[39m\u001b[39m.\u001b[39m_engine\u001b[39m.\u001b[39mget_loc(casted_key)\n\u001b[0;32m   3803\u001b[0m \u001b[39mexcept\u001b[39;00m \u001b[39mKeyError\u001b[39;00m \u001b[39mas\u001b[39;00m err:\n\u001b[1;32m-> 3804\u001b[0m     \u001b[39mraise\u001b[39;00m \u001b[39mKeyError\u001b[39;00m(key) \u001b[39mfrom\u001b[39;00m \u001b[39merr\u001b[39;00m\n\u001b[0;32m   3805\u001b[0m \u001b[39mexcept\u001b[39;00m \u001b[39mTypeError\u001b[39;00m:\n\u001b[0;32m   3806\u001b[0m     \u001b[39m# If we have a listlike key, _check_indexing_error will raise\u001b[39;00m\n\u001b[0;32m   3807\u001b[0m     \u001b[39m#  InvalidIndexError. Otherwise we fall through and re-raise\u001b[39;00m\n\u001b[0;32m   3808\u001b[0m     \u001b[39m#  the TypeError.\u001b[39;00m\n\u001b[0;32m   3809\u001b[0m     \u001b[39mself\u001b[39m\u001b[39m.\u001b[39m_check_indexing_error(key)\n",
      "\u001b[1;31mKeyError\u001b[0m: 'Year Month'"
     ]
    },
    {
     "data": {
      "image/png": "[encoded data removed]",
      "text/plain": [
       "<Figure size 1200x1400 with 1 Axes>"
      ]
     },
     "metadata": {},
     "output_type": "display_data"
    }
   ],
   "source": [
    "fig, ax = plt.subplots(1, 1, figsize=(12, 14))\n",
    "\n",
    "# Plot the lines for Multi-Family\n",
    "ax.plot(m_fam_totals['Year Month'], m_fam_totals['Total Gallons'], label='Multi-Family')\n",
    "# Plot the lines for Residential\n",
    "ax.plot(residential_totals['Year Month'], residential_totals['Total Gallons'], label='Residential')  \n",
    "# Plot the line for Irrigation\n",
    "ax.plot(irrigation_totals['Year Month'], irrigation_totals['Total Gallons'], label='Irrigation') \n",
    "\n",
    "\n"
   ]
  }
 ],
 "metadata": {
  "kernelspec": {
   "display_name": "EdX",
   "language": "python",
   "name": "python3"
  },
  "language_info": {
   "codemirror_mode": {
    "name": "ipython",
    "version": 3
   },
   "file_extension": ".py",
   "mimetype": "text/x-python",
   "name": "python",
   "nbconvert_exporter": "python",
   "pygments_lexer": "ipython3",
   "version": "3.10.11"
  },
  "orig_nbformat": 4
 },
 "nbformat": 4,
 "nbformat_minor": 2
}
